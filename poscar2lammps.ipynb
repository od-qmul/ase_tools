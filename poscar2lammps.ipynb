{
 "cells": [
  {
   "cell_type": "code",
   "execution_count": 24,
   "id": "c150b7dc-1169-4d8b-b579-31ea6a3f4834",
   "metadata": {},
   "outputs": [],
   "source": [
    "import sys\n",
    "import numpy as np\n",
    "import ase.io.vasp\n",
    "import ase.io.lammpsdata\n",
    "from ase import Atoms\n",
    "from ase.visualize import view\n",
    "from ase import build"
   ]
  },
  {
   "cell_type": "code",
   "execution_count": 25,
   "id": "0c477cb6-091d-45f9-a869-7d5af0f19978",
   "metadata": {},
   "outputs": [
    {
     "data": {
      "text/plain": [
       "<Popen: returncode: None args: ['/home/ubc_oadicks/anaconda3/envs/acesuit/bi...>"
      ]
     },
     "execution_count": 25,
     "metadata": {},
     "output_type": "execute_result"
    }
   ],
   "source": [
    "#Reads structure from .cif file and creates Atoms object\n",
    "struc_input = ase.io.vasp.read_vasp('POSCAR.vasp')\n",
    "view(struc_input)"
   ]
  },
  {
   "cell_type": "code",
   "execution_count": 31,
   "id": "85153e28-9abe-4e6f-80e1-de470c488287",
   "metadata": {},
   "outputs": [
    {
     "name": "stdout",
     "output_type": "stream",
     "text": [
      "[[0. 0. 0.]\n",
      " [0. 0. 0.]\n",
      " [0. 0. 0.]]\n",
      "[[5. 0. 0.]\n",
      " [0. 5. 0.]\n",
      " [0. 0. 5.]]\n"
     ]
    }
   ],
   "source": [
    "trans_mat = np.zeros((3,3))\n",
    "print(trans_mat)\n",
    "trans_mat[0][0] = 5\n",
    "trans_mat[1][1] = 5\n",
    "trans_mat[2][2] = 5\n",
    "print(trans_mat)"
   ]
  },
  {
   "cell_type": "code",
   "execution_count": 32,
   "id": "84cd7eb7-2e79-4203-bdbc-a8ea69696216",
   "metadata": {},
   "outputs": [
    {
     "data": {
      "text/plain": [
       "<Popen: returncode: None args: ['/home/ubc_oadicks/anaconda3/envs/acesuit/bi...>"
      ]
     },
     "execution_count": 32,
     "metadata": {},
     "output_type": "execute_result"
    }
   ],
   "source": [
    "struc_scell = ase.build.make_supercell(struc_input,trans_mat)\n",
    "view(struc_scell)"
   ]
  },
  {
   "cell_type": "code",
   "execution_count": 33,
   "id": "eb06edad-1771-48f5-9603-47bdb070f65b",
   "metadata": {},
   "outputs": [],
   "source": [
    "ase.io.lammpsdata.write_lammps_data(\"data.structure\",atoms=struc_scell,units=\"metal\",atom_style=\"charge\")"
   ]
  },
  {
   "cell_type": "code",
   "execution_count": null,
   "id": "85587eee-b94d-49b0-87d9-2774226ca65c",
   "metadata": {},
   "outputs": [],
   "source": []
  }
 ],
 "metadata": {
  "kernelspec": {
   "display_name": "acesuit",
   "language": "python",
   "name": "acesuit"
  },
  "language_info": {
   "codemirror_mode": {
    "name": "ipython",
    "version": 3
   },
   "file_extension": ".py",
   "mimetype": "text/x-python",
   "name": "python",
   "nbconvert_exporter": "python",
   "pygments_lexer": "ipython3",
   "version": "3.11.4"
  }
 },
 "nbformat": 4,
 "nbformat_minor": 5
}
